{
 "cells": [
  {
   "cell_type": "code",
   "execution_count": 93,
   "id": "57b92669-0eec-403d-917a-70f9174858df",
   "metadata": {},
   "outputs": [],
   "source": [
    "import pandas as pd\n",
    "import numpy as np\n",
    "import matplotlib.pyplot as plt\n",
    "import seaborn as sns\n"
   ]
  },
  {
   "cell_type": "code",
   "execution_count": 2,
   "id": "043faca4-783e-4fd7-94a1-96e8e86c04ff",
   "metadata": {},
   "outputs": [],
   "source": [
    "df=pd.read_excel('Adidas US Sales Datasets.xlsx')"
   ]
  },
  {
   "cell_type": "code",
   "execution_count": 3,
   "id": "9b4c2a3a-fd1b-4954-accd-3f7ee6e21187",
   "metadata": {},
   "outputs": [
    {
     "name": "stdout",
     "output_type": "stream",
     "text": [
      "<class 'pandas.core.frame.DataFrame'>\n",
      "RangeIndex: 9652 entries, 0 to 9651\n",
      "Data columns (total 14 columns):\n",
      " #   Column       Non-Null Count  Dtype  \n",
      "---  ------       --------------  -----  \n",
      " 0   Unnamed: 0   0 non-null      float64\n",
      " 1   Unnamed: 1   9649 non-null   object \n",
      " 2   Unnamed: 2   9650 non-null   object \n",
      " 3   Unnamed: 3   9649 non-null   object \n",
      " 4   Unnamed: 4   9649 non-null   object \n",
      " 5   Unnamed: 5   9649 non-null   object \n",
      " 6   Unnamed: 6   9649 non-null   object \n",
      " 7   Unnamed: 7   9649 non-null   object \n",
      " 8   Unnamed: 8   9649 non-null   object \n",
      " 9   Unnamed: 9   9649 non-null   object \n",
      " 10  Unnamed: 10  9649 non-null   object \n",
      " 11  Unnamed: 11  9649 non-null   object \n",
      " 12  Unnamed: 12  9649 non-null   object \n",
      " 13  Unnamed: 13  9649 non-null   object \n",
      "dtypes: float64(1), object(13)\n",
      "memory usage: 1.0+ MB\n"
     ]
    }
   ],
   "source": [
    "df.info()\n"
   ]
  },
  {
   "cell_type": "code",
   "execution_count": 4,
   "id": "557db3b7-7548-4121-a55b-2f0885dbdeab",
   "metadata": {},
   "outputs": [],
   "source": [
    "df = df.drop('Unnamed: 0',axis=1)"
   ]
  },
  {
   "cell_type": "code",
   "execution_count": 5,
   "id": "ac092900-2444-4128-b2cb-40321ce585d8",
   "metadata": {},
   "outputs": [],
   "source": [
    "df = df.drop(labels=[0,1,2], axis=0)"
   ]
  },
  {
   "cell_type": "code",
   "execution_count": 6,
   "id": "bf3a6d91-2037-477a-9ce3-0c85e0b7a11d",
   "metadata": {},
   "outputs": [],
   "source": [
    "df.columns = df.iloc[0]"
   ]
  },
  {
   "cell_type": "code",
   "execution_count": 7,
   "id": "687b6f08-6a1f-40fc-ab6c-fd1674150b5f",
   "metadata": {},
   "outputs": [],
   "source": [
    "df = df.drop(labels=3, axis=0)"
   ]
  },
  {
   "cell_type": "code",
   "execution_count": 8,
   "id": "4167de24-e1ce-4bfb-833c-6fd095102d5c",
   "metadata": {},
   "outputs": [],
   "source": [
    "df = df.reset_index(drop=True)"
   ]
  },
  {
   "cell_type": "code",
   "execution_count": 9,
   "id": "83c6e89f-d696-4d33-923f-4d84c6c0ccfc",
   "metadata": {},
   "outputs": [
    {
     "data": {
      "text/html": [
       "<div>\n",
       "<style scoped>\n",
       "    .dataframe tbody tr th:only-of-type {\n",
       "        vertical-align: middle;\n",
       "    }\n",
       "\n",
       "    .dataframe tbody tr th {\n",
       "        vertical-align: top;\n",
       "    }\n",
       "\n",
       "    .dataframe thead th {\n",
       "        text-align: right;\n",
       "    }\n",
       "</style>\n",
       "<table border=\"1\" class=\"dataframe\">\n",
       "  <thead>\n",
       "    <tr style=\"text-align: right;\">\n",
       "      <th>3</th>\n",
       "      <th>Retailer</th>\n",
       "      <th>Retailer ID</th>\n",
       "      <th>Invoice Date</th>\n",
       "      <th>Region</th>\n",
       "      <th>State</th>\n",
       "      <th>City</th>\n",
       "      <th>Product</th>\n",
       "      <th>Price per Unit</th>\n",
       "      <th>Units Sold</th>\n",
       "      <th>Total Sales</th>\n",
       "      <th>Operating Profit</th>\n",
       "      <th>Operating Margin</th>\n",
       "      <th>Sales Method</th>\n",
       "    </tr>\n",
       "  </thead>\n",
       "  <tbody>\n",
       "    <tr>\n",
       "      <th>0</th>\n",
       "      <td>Foot Locker</td>\n",
       "      <td>1185732</td>\n",
       "      <td>2020-01-01 00:00:00</td>\n",
       "      <td>Northeast</td>\n",
       "      <td>New York</td>\n",
       "      <td>New York</td>\n",
       "      <td>Men's Street Footwear</td>\n",
       "      <td>50</td>\n",
       "      <td>1200</td>\n",
       "      <td>600000</td>\n",
       "      <td>300000</td>\n",
       "      <td>0.5</td>\n",
       "      <td>In-store</td>\n",
       "    </tr>\n",
       "    <tr>\n",
       "      <th>1</th>\n",
       "      <td>Foot Locker</td>\n",
       "      <td>1185732</td>\n",
       "      <td>2020-01-02 00:00:00</td>\n",
       "      <td>Northeast</td>\n",
       "      <td>New York</td>\n",
       "      <td>New York</td>\n",
       "      <td>Men's Athletic Footwear</td>\n",
       "      <td>50</td>\n",
       "      <td>1000</td>\n",
       "      <td>500000</td>\n",
       "      <td>150000</td>\n",
       "      <td>0.3</td>\n",
       "      <td>In-store</td>\n",
       "    </tr>\n",
       "    <tr>\n",
       "      <th>2</th>\n",
       "      <td>Foot Locker</td>\n",
       "      <td>1185732</td>\n",
       "      <td>2020-01-03 00:00:00</td>\n",
       "      <td>Northeast</td>\n",
       "      <td>New York</td>\n",
       "      <td>New York</td>\n",
       "      <td>Women's Street Footwear</td>\n",
       "      <td>40</td>\n",
       "      <td>1000</td>\n",
       "      <td>400000</td>\n",
       "      <td>140000</td>\n",
       "      <td>0.35</td>\n",
       "      <td>In-store</td>\n",
       "    </tr>\n",
       "    <tr>\n",
       "      <th>3</th>\n",
       "      <td>Foot Locker</td>\n",
       "      <td>1185732</td>\n",
       "      <td>2020-01-04 00:00:00</td>\n",
       "      <td>Northeast</td>\n",
       "      <td>New York</td>\n",
       "      <td>New York</td>\n",
       "      <td>Women's Athletic Footwear</td>\n",
       "      <td>45</td>\n",
       "      <td>850</td>\n",
       "      <td>382500</td>\n",
       "      <td>133875</td>\n",
       "      <td>0.35</td>\n",
       "      <td>In-store</td>\n",
       "    </tr>\n",
       "    <tr>\n",
       "      <th>4</th>\n",
       "      <td>Foot Locker</td>\n",
       "      <td>1185732</td>\n",
       "      <td>2020-01-05 00:00:00</td>\n",
       "      <td>Northeast</td>\n",
       "      <td>New York</td>\n",
       "      <td>New York</td>\n",
       "      <td>Men's Apparel</td>\n",
       "      <td>60</td>\n",
       "      <td>900</td>\n",
       "      <td>540000</td>\n",
       "      <td>162000</td>\n",
       "      <td>0.3</td>\n",
       "      <td>In-store</td>\n",
       "    </tr>\n",
       "  </tbody>\n",
       "</table>\n",
       "</div>"
      ],
      "text/plain": [
       "3     Retailer Retailer ID         Invoice Date     Region     State  \\\n",
       "0  Foot Locker     1185732  2020-01-01 00:00:00  Northeast  New York   \n",
       "1  Foot Locker     1185732  2020-01-02 00:00:00  Northeast  New York   \n",
       "2  Foot Locker     1185732  2020-01-03 00:00:00  Northeast  New York   \n",
       "3  Foot Locker     1185732  2020-01-04 00:00:00  Northeast  New York   \n",
       "4  Foot Locker     1185732  2020-01-05 00:00:00  Northeast  New York   \n",
       "\n",
       "3      City                    Product Price per Unit Units Sold Total Sales  \\\n",
       "0  New York      Men's Street Footwear             50       1200      600000   \n",
       "1  New York    Men's Athletic Footwear             50       1000      500000   \n",
       "2  New York    Women's Street Footwear             40       1000      400000   \n",
       "3  New York  Women's Athletic Footwear             45        850      382500   \n",
       "4  New York              Men's Apparel             60        900      540000   \n",
       "\n",
       "3 Operating Profit Operating Margin Sales Method  \n",
       "0           300000              0.5     In-store  \n",
       "1           150000              0.3     In-store  \n",
       "2           140000             0.35     In-store  \n",
       "3           133875             0.35     In-store  \n",
       "4           162000              0.3     In-store  "
      ]
     },
     "execution_count": 9,
     "metadata": {},
     "output_type": "execute_result"
    }
   ],
   "source": [
    "df.head()"
   ]
  },
  {
   "cell_type": "code",
   "execution_count": 10,
   "id": "dd5efe09-a6a1-4f3e-8792-075e5eedede5",
   "metadata": {},
   "outputs": [
    {
     "name": "stdout",
     "output_type": "stream",
     "text": [
      "<class 'pandas.core.frame.DataFrame'>\n",
      "RangeIndex: 9648 entries, 0 to 9647\n",
      "Data columns (total 13 columns):\n",
      " #   Column            Non-Null Count  Dtype \n",
      "---  ------            --------------  ----- \n",
      " 0   Retailer          9648 non-null   object\n",
      " 1   Retailer ID       9648 non-null   object\n",
      " 2   Invoice Date      9648 non-null   object\n",
      " 3   Region            9648 non-null   object\n",
      " 4   State             9648 non-null   object\n",
      " 5   City              9648 non-null   object\n",
      " 6   Product           9648 non-null   object\n",
      " 7   Price per Unit    9648 non-null   object\n",
      " 8   Units Sold        9648 non-null   object\n",
      " 9   Total Sales       9648 non-null   object\n",
      " 10  Operating Profit  9648 non-null   object\n",
      " 11  Operating Margin  9648 non-null   object\n",
      " 12  Sales Method      9648 non-null   object\n",
      "dtypes: object(13)\n",
      "memory usage: 980.0+ KB\n"
     ]
    }
   ],
   "source": [
    "df.info()"
   ]
  },
  {
   "cell_type": "markdown",
   "id": "58cbd542-702e-41de-891f-6a28de6d344e",
   "metadata": {
    "tags": []
   },
   "source": [
    "## Data Analysis"
   ]
  },
  {
   "cell_type": "code",
   "execution_count": 11,
   "id": "8d72877b-24cd-45ff-845d-f1e34f9c8e80",
   "metadata": {},
   "outputs": [
    {
     "data": {
      "text/html": [
       "<div>\n",
       "<style scoped>\n",
       "    .dataframe tbody tr th:only-of-type {\n",
       "        vertical-align: middle;\n",
       "    }\n",
       "\n",
       "    .dataframe tbody tr th {\n",
       "        vertical-align: top;\n",
       "    }\n",
       "\n",
       "    .dataframe thead th {\n",
       "        text-align: right;\n",
       "    }\n",
       "</style>\n",
       "<table border=\"1\" class=\"dataframe\">\n",
       "  <thead>\n",
       "    <tr style=\"text-align: right;\">\n",
       "      <th>3</th>\n",
       "      <th>Retailer</th>\n",
       "      <th>Retailer ID</th>\n",
       "      <th>Invoice Date</th>\n",
       "      <th>Region</th>\n",
       "      <th>State</th>\n",
       "      <th>City</th>\n",
       "      <th>Product</th>\n",
       "      <th>Price per Unit</th>\n",
       "      <th>Units Sold</th>\n",
       "      <th>Total Sales</th>\n",
       "      <th>Operating Profit</th>\n",
       "      <th>Operating Margin</th>\n",
       "      <th>Sales Method</th>\n",
       "    </tr>\n",
       "  </thead>\n",
       "  <tbody>\n",
       "    <tr>\n",
       "      <th>count</th>\n",
       "      <td>9648</td>\n",
       "      <td>9648</td>\n",
       "      <td>9648</td>\n",
       "      <td>9648</td>\n",
       "      <td>9648</td>\n",
       "      <td>9648</td>\n",
       "      <td>9648</td>\n",
       "      <td>9648.0</td>\n",
       "      <td>9648</td>\n",
       "      <td>9648.0</td>\n",
       "      <td>9648.0</td>\n",
       "      <td>9648.00</td>\n",
       "      <td>9648</td>\n",
       "    </tr>\n",
       "    <tr>\n",
       "      <th>unique</th>\n",
       "      <td>6</td>\n",
       "      <td>4</td>\n",
       "      <td>724</td>\n",
       "      <td>5</td>\n",
       "      <td>50</td>\n",
       "      <td>52</td>\n",
       "      <td>6</td>\n",
       "      <td>146.0</td>\n",
       "      <td>361</td>\n",
       "      <td>3512.0</td>\n",
       "      <td>6510.0</td>\n",
       "      <td>127.00</td>\n",
       "      <td>3</td>\n",
       "    </tr>\n",
       "    <tr>\n",
       "      <th>top</th>\n",
       "      <td>Foot Locker</td>\n",
       "      <td>1185732</td>\n",
       "      <td>2021-01-17 00:00:00</td>\n",
       "      <td>West</td>\n",
       "      <td>California</td>\n",
       "      <td>Portland</td>\n",
       "      <td>Men's Street Footwear</td>\n",
       "      <td>50.0</td>\n",
       "      <td>225</td>\n",
       "      <td>100000.0</td>\n",
       "      <td>21000.0</td>\n",
       "      <td>0.35</td>\n",
       "      <td>Online</td>\n",
       "    </tr>\n",
       "    <tr>\n",
       "      <th>freq</th>\n",
       "      <td>2637</td>\n",
       "      <td>5265</td>\n",
       "      <td>77</td>\n",
       "      <td>2448</td>\n",
       "      <td>432</td>\n",
       "      <td>360</td>\n",
       "      <td>1610</td>\n",
       "      <td>557.0</td>\n",
       "      <td>207</td>\n",
       "      <td>52.0</td>\n",
       "      <td>34.0</td>\n",
       "      <td>1229.00</td>\n",
       "      <td>4889</td>\n",
       "    </tr>\n",
       "  </tbody>\n",
       "</table>\n",
       "</div>"
      ],
      "text/plain": [
       "3          Retailer  Retailer ID         Invoice Date Region       State  \\\n",
       "count          9648         9648                 9648   9648        9648   \n",
       "unique            6            4                  724      5          50   \n",
       "top     Foot Locker      1185732  2021-01-17 00:00:00   West  California   \n",
       "freq           2637         5265                   77   2448         432   \n",
       "\n",
       "3           City                Product  Price per Unit  Units Sold  \\\n",
       "count       9648                   9648          9648.0        9648   \n",
       "unique        52                      6           146.0         361   \n",
       "top     Portland  Men's Street Footwear            50.0         225   \n",
       "freq         360                   1610           557.0         207   \n",
       "\n",
       "3       Total Sales  Operating Profit  Operating Margin Sales Method  \n",
       "count        9648.0            9648.0           9648.00         9648  \n",
       "unique       3512.0            6510.0            127.00            3  \n",
       "top        100000.0           21000.0              0.35       Online  \n",
       "freq           52.0              34.0           1229.00         4889  "
      ]
     },
     "execution_count": 11,
     "metadata": {},
     "output_type": "execute_result"
    }
   ],
   "source": [
    "df.describe()"
   ]
  },
  {
   "cell_type": "code",
   "execution_count": 12,
   "id": "887535bb-7031-4415-b1a5-924abb4e60d0",
   "metadata": {},
   "outputs": [
    {
     "data": {
      "text/html": [
       "<div>\n",
       "<style scoped>\n",
       "    .dataframe tbody tr th:only-of-type {\n",
       "        vertical-align: middle;\n",
       "    }\n",
       "\n",
       "    .dataframe tbody tr th {\n",
       "        vertical-align: top;\n",
       "    }\n",
       "\n",
       "    .dataframe thead th {\n",
       "        text-align: right;\n",
       "    }\n",
       "</style>\n",
       "<table border=\"1\" class=\"dataframe\">\n",
       "  <thead>\n",
       "    <tr style=\"text-align: right;\">\n",
       "      <th>3</th>\n",
       "      <th>Total Sales</th>\n",
       "    </tr>\n",
       "    <tr>\n",
       "      <th>Product</th>\n",
       "      <th></th>\n",
       "    </tr>\n",
       "  </thead>\n",
       "  <tbody>\n",
       "    <tr>\n",
       "      <th>Men's Apparel</th>\n",
       "      <td>123728632.0</td>\n",
       "    </tr>\n",
       "    <tr>\n",
       "      <th>Men's Athletic Footwear</th>\n",
       "      <td>153673680.0</td>\n",
       "    </tr>\n",
       "    <tr>\n",
       "      <th>Men's Street Footwear</th>\n",
       "      <td>208826244.0</td>\n",
       "    </tr>\n",
       "    <tr>\n",
       "      <th>Women's Apparel</th>\n",
       "      <td>179038860.0</td>\n",
       "    </tr>\n",
       "    <tr>\n",
       "      <th>Women's Athletic Footwear</th>\n",
       "      <td>106631896.0</td>\n",
       "    </tr>\n",
       "    <tr>\n",
       "      <th>Women's Street Footwear</th>\n",
       "      <td>128002813.0</td>\n",
       "    </tr>\n",
       "  </tbody>\n",
       "</table>\n",
       "</div>"
      ],
      "text/plain": [
       "3                          Total Sales\n",
       "Product                               \n",
       "Men's Apparel              123728632.0\n",
       "Men's Athletic Footwear    153673680.0\n",
       "Men's Street Footwear      208826244.0\n",
       "Women's Apparel            179038860.0\n",
       "Women's Athletic Footwear  106631896.0\n",
       "Women's Street Footwear    128002813.0"
      ]
     },
     "execution_count": 12,
     "metadata": {},
     "output_type": "execute_result"
    }
   ],
   "source": [
    "top_products= df[['Product','Total Sales']].groupby('Product').sum()\n",
    "top_products"
   ]
  },
  {
   "cell_type": "code",
   "execution_count": 101,
   "id": "7433cc4d-03af-420b-85e9-3ba6aaebc655",
   "metadata": {},
   "outputs": [
    {
     "data": {
      "image/png": "[encoded data removed]",
      "text/plain": [
       "<Figure size 1200x700 with 1 Axes>"
      ]
     },
     "metadata": {},
     "output_type": "display_data"
    }
   ],
   "source": [
    "top_products.plot(kind='bar',figsize=(12,7),title='Total sales per Product',color = 'g')\n",
    "plt.show()"
   ]
  },
  {
   "cell_type": "markdown",
   "id": "5154f856-dbc8-44ef-a6df-6e8c4d7cd320",
   "metadata": {},
   "source": [
    "### Men's Street Footwear has the highest sales amount"
   ]
  },
  {
   "cell_type": "code",
   "execution_count": 14,
   "id": "690b2e9b-05cd-4fb8-9e7d-be6353e32172",
   "metadata": {},
   "outputs": [
    {
     "data": {
      "text/html": [
       "<div>\n",
       "<style scoped>\n",
       "    .dataframe tbody tr th:only-of-type {\n",
       "        vertical-align: middle;\n",
       "    }\n",
       "\n",
       "    .dataframe tbody tr th {\n",
       "        vertical-align: top;\n",
       "    }\n",
       "\n",
       "    .dataframe thead th {\n",
       "        text-align: right;\n",
       "    }\n",
       "</style>\n",
       "<table border=\"1\" class=\"dataframe\">\n",
       "  <thead>\n",
       "    <tr style=\"text-align: right;\">\n",
       "      <th>3</th>\n",
       "      <th>Total Sales</th>\n",
       "    </tr>\n",
       "    <tr>\n",
       "      <th>Retailer</th>\n",
       "      <th></th>\n",
       "    </tr>\n",
       "  </thead>\n",
       "  <tbody>\n",
       "    <tr>\n",
       "      <th>Amazon</th>\n",
       "      <td>77698912.0</td>\n",
       "    </tr>\n",
       "    <tr>\n",
       "      <th>Foot Locker</th>\n",
       "      <td>220094720.0</td>\n",
       "    </tr>\n",
       "    <tr>\n",
       "      <th>Kohl's</th>\n",
       "      <td>102114753.0</td>\n",
       "    </tr>\n",
       "    <tr>\n",
       "      <th>Sports Direct</th>\n",
       "      <td>182470997.0</td>\n",
       "    </tr>\n",
       "    <tr>\n",
       "      <th>Walmart</th>\n",
       "      <td>74558410.0</td>\n",
       "    </tr>\n",
       "    <tr>\n",
       "      <th>West Gear</th>\n",
       "      <td>242964333.0</td>\n",
       "    </tr>\n",
       "  </tbody>\n",
       "</table>\n",
       "</div>"
      ],
      "text/plain": [
       "3              Total Sales\n",
       "Retailer                  \n",
       "Amazon          77698912.0\n",
       "Foot Locker    220094720.0\n",
       "Kohl's         102114753.0\n",
       "Sports Direct  182470997.0\n",
       "Walmart         74558410.0\n",
       "West Gear      242964333.0"
      ]
     },
     "execution_count": 14,
     "metadata": {},
     "output_type": "execute_result"
    }
   ],
   "source": [
    "top_retailers = df[['Retailer','Total Sales']].groupby('Retailer').sum()\n",
    "top_retailers"
   ]
  },
  {
   "cell_type": "code",
   "execution_count": 99,
   "id": "5b2a605e-01a7-48b9-a27e-83c7c3e69274",
   "metadata": {},
   "outputs": [
    {
     "data": {
      "image/png": "[encoded data removed]",
      "text/plain": [
       "<Figure size 1200x700 with 1 Axes>"
      ]
     },
     "metadata": {},
     "output_type": "display_data"
    }
   ],
   "source": [
    "top_retailers.plot(kind='pie',subplots=True,figsize=(12,7),title='Total sales per Retailer',autopct='%1.0f%%');"
   ]
  },
  {
   "cell_type": "markdown",
   "id": "b95204a4-3c2a-4ee5-8f72-b61cebe1c389",
   "metadata": {},
   "source": [
    "### West Gear has the highest sales amount"
   ]
  },
  {
   "cell_type": "code",
   "execution_count": 92,
   "id": "f7242bb5-43f0-49d9-b35b-68840730c81a",
   "metadata": {},
   "outputs": [
    {
     "data": {
      "image/png": "[encoded data removed]",
      "text/plain": [
       "<Figure size 1200x700 with 1 Axes>"
      ]
     },
     "metadata": {},
     "output_type": "display_data"
    }
   ],
   "source": [
    "df['Price per Unit'].plot(kind='hist',bins=25,figsize=(12,7),title='Products price distribution');"
   ]
  },
  {
   "cell_type": "code",
   "execution_count": 17,
   "id": "b760d666-e79e-4276-ba70-dddb9c099872",
   "metadata": {},
   "outputs": [
    {
     "data": {
      "text/plain": [
       "45.21662520729685"
      ]
     },
     "execution_count": 17,
     "metadata": {},
     "output_type": "execute_result"
    }
   ],
   "source": [
    "df['Price per Unit'].mean()"
   ]
  },
  {
   "cell_type": "markdown",
   "id": "58130099-1207-4cbb-aef0-25de38f17c8f",
   "metadata": {},
   "source": [
    "### Most of the price range between  40 − 60 and the average product price is $45.22"
   ]
  },
  {
   "cell_type": "code",
   "execution_count": 18,
   "id": "5e48f07c-8762-476c-9a39-c603c8de1175",
   "metadata": {},
   "outputs": [
    {
     "data": {
      "text/html": [
       "<div>\n",
       "<style scoped>\n",
       "    .dataframe tbody tr th:only-of-type {\n",
       "        vertical-align: middle;\n",
       "    }\n",
       "\n",
       "    .dataframe tbody tr th {\n",
       "        vertical-align: top;\n",
       "    }\n",
       "\n",
       "    .dataframe thead th {\n",
       "        text-align: right;\n",
       "    }\n",
       "</style>\n",
       "<table border=\"1\" class=\"dataframe\">\n",
       "  <thead>\n",
       "    <tr style=\"text-align: right;\">\n",
       "      <th>3</th>\n",
       "      <th>Total Sales</th>\n",
       "    </tr>\n",
       "    <tr>\n",
       "      <th>Sales Method</th>\n",
       "      <th></th>\n",
       "    </tr>\n",
       "  </thead>\n",
       "  <tbody>\n",
       "    <tr>\n",
       "      <th>In-store</th>\n",
       "      <td>356643750.0</td>\n",
       "    </tr>\n",
       "    <tr>\n",
       "      <th>Online</th>\n",
       "      <td>247672882.0</td>\n",
       "    </tr>\n",
       "    <tr>\n",
       "      <th>Outlet</th>\n",
       "      <td>295585493.0</td>\n",
       "    </tr>\n",
       "  </tbody>\n",
       "</table>\n",
       "</div>"
      ],
      "text/plain": [
       "3             Total Sales\n",
       "Sales Method             \n",
       "In-store      356643750.0\n",
       "Online        247672882.0\n",
       "Outlet        295585493.0"
      ]
     },
     "execution_count": 18,
     "metadata": {},
     "output_type": "execute_result"
    }
   ],
   "source": [
    "top_salesmt = df[['Sales Method','Total Sales']].groupby('Sales Method').sum()\n",
    "top_salesmt"
   ]
  },
  {
   "cell_type": "code",
   "execution_count": 85,
   "id": "9e301c5d-2173-4547-b0ae-26cd7737f34a",
   "metadata": {},
   "outputs": [
    {
     "data": {
      "image/png": "[encoded data removed]",
      "text/plain": [
       "<Figure size 640x480 with 1 Axes>"
      ]
     },
     "metadata": {},
     "output_type": "display_data"
    }
   ],
   "source": [
    "top_salesmt.plot(kind='barh',title='Top Selling Methods',color = 'orange');"
   ]
  },
  {
   "cell_type": "markdown",
   "id": "cc3a968c-c2c2-44ad-b8b8-39a0a41c7f9c",
   "metadata": {},
   "source": [
    "### It's clear that retailers sell more products in-store"
   ]
  },
  {
   "cell_type": "markdown",
   "id": "59757552-f39e-4a27-a0d0-a79c56b4c230",
   "metadata": {},
   "source": [
    "## Machine Learning Part"
   ]
  },
  {
   "cell_type": "code",
   "execution_count": 20,
   "id": "5919a4ba-f45a-496a-96d0-25c68ccab9e6",
   "metadata": {},
   "outputs": [],
   "source": [
    "from sklearn.model_selection import train_test_split\n",
    "from sklearn.linear_model import LinearRegression\n",
    "from sklearn import metrics\n",
    "from sklearn.metrics import r2_score"
   ]
  },
  {
   "cell_type": "markdown",
   "id": "0d218592-161e-4c60-9895-1976bedb235d",
   "metadata": {},
   "source": [
    "### Creating a copy"
   ]
  },
  {
   "cell_type": "code",
   "execution_count": 21,
   "id": "c2f0075b-6e32-4c0c-9aab-15f2163d36c5",
   "metadata": {},
   "outputs": [],
   "source": [
    "df2 = df.copy()"
   ]
  },
  {
   "cell_type": "code",
   "execution_count": 22,
   "id": "6dc510cb-1c5b-4e5c-ac99-91cd69cf2771",
   "metadata": {},
   "outputs": [],
   "source": [
    "df2['Region']=pd.factorize(df2.Region)[0]\n",
    "df2['State']=pd.factorize(df2.State)[0]\n",
    "df2['City']=pd.factorize(df2.City)[0]\n",
    "df2['Product']=pd.factorize(df2.Product)[0]\n",
    "df2['Retailer']=pd.factorize(df2.Retailer)[0]"
   ]
  },
  {
   "cell_type": "code",
   "execution_count": 23,
   "id": "1d375a12-d29d-4e2f-8f1b-34553677540f",
   "metadata": {},
   "outputs": [],
   "source": [
    "df2.rename(columns = {'Sales Method':'Method'}, inplace = True)"
   ]
  },
  {
   "cell_type": "code",
   "execution_count": 24,
   "id": "9a87f096-78be-4d1c-86c2-72ef64bf6b76",
   "metadata": {},
   "outputs": [],
   "source": [
    "df2['Method']=pd.factorize(df2.Method)[0]"
   ]
  },
  {
   "cell_type": "code",
   "execution_count": 25,
   "id": "1fcb3213-bd5f-4165-a67d-460f544bba52",
   "metadata": {},
   "outputs": [],
   "source": [
    "df2 = df2.drop('Retailer ID',axis=1)"
   ]
  },
  {
   "cell_type": "code",
   "execution_count": 26,
   "id": "d1dcf2fe-72bc-496c-89a8-414e2c49ccb8",
   "metadata": {},
   "outputs": [],
   "source": [
    "df2 = df2.drop('Invoice Date',axis=1)"
   ]
  },
  {
   "cell_type": "code",
   "execution_count": 27,
   "id": "7fbd049e-f7fe-4b65-a539-52d987edc5b4",
   "metadata": {},
   "outputs": [
    {
     "data": {
      "text/html": [
       "<div>\n",
       "<style scoped>\n",
       "    .dataframe tbody tr th:only-of-type {\n",
       "        vertical-align: middle;\n",
       "    }\n",
       "\n",
       "    .dataframe tbody tr th {\n",
       "        vertical-align: top;\n",
       "    }\n",
       "\n",
       "    .dataframe thead th {\n",
       "        text-align: right;\n",
       "    }\n",
       "</style>\n",
       "<table border=\"1\" class=\"dataframe\">\n",
       "  <thead>\n",
       "    <tr style=\"text-align: right;\">\n",
       "      <th>3</th>\n",
       "      <th>Retailer</th>\n",
       "      <th>Region</th>\n",
       "      <th>State</th>\n",
       "      <th>City</th>\n",
       "      <th>Product</th>\n",
       "      <th>Price per Unit</th>\n",
       "      <th>Units Sold</th>\n",
       "      <th>Total Sales</th>\n",
       "      <th>Operating Profit</th>\n",
       "      <th>Operating Margin</th>\n",
       "      <th>Method</th>\n",
       "    </tr>\n",
       "  </thead>\n",
       "  <tbody>\n",
       "    <tr>\n",
       "      <th>0</th>\n",
       "      <td>0</td>\n",
       "      <td>0</td>\n",
       "      <td>0</td>\n",
       "      <td>0</td>\n",
       "      <td>0</td>\n",
       "      <td>50</td>\n",
       "      <td>1200</td>\n",
       "      <td>600000</td>\n",
       "      <td>300000</td>\n",
       "      <td>0.5</td>\n",
       "      <td>0</td>\n",
       "    </tr>\n",
       "    <tr>\n",
       "      <th>1</th>\n",
       "      <td>0</td>\n",
       "      <td>0</td>\n",
       "      <td>0</td>\n",
       "      <td>0</td>\n",
       "      <td>1</td>\n",
       "      <td>50</td>\n",
       "      <td>1000</td>\n",
       "      <td>500000</td>\n",
       "      <td>150000</td>\n",
       "      <td>0.3</td>\n",
       "      <td>0</td>\n",
       "    </tr>\n",
       "    <tr>\n",
       "      <th>2</th>\n",
       "      <td>0</td>\n",
       "      <td>0</td>\n",
       "      <td>0</td>\n",
       "      <td>0</td>\n",
       "      <td>2</td>\n",
       "      <td>40</td>\n",
       "      <td>1000</td>\n",
       "      <td>400000</td>\n",
       "      <td>140000</td>\n",
       "      <td>0.35</td>\n",
       "      <td>0</td>\n",
       "    </tr>\n",
       "    <tr>\n",
       "      <th>3</th>\n",
       "      <td>0</td>\n",
       "      <td>0</td>\n",
       "      <td>0</td>\n",
       "      <td>0</td>\n",
       "      <td>3</td>\n",
       "      <td>45</td>\n",
       "      <td>850</td>\n",
       "      <td>382500</td>\n",
       "      <td>133875</td>\n",
       "      <td>0.35</td>\n",
       "      <td>0</td>\n",
       "    </tr>\n",
       "    <tr>\n",
       "      <th>4</th>\n",
       "      <td>0</td>\n",
       "      <td>0</td>\n",
       "      <td>0</td>\n",
       "      <td>0</td>\n",
       "      <td>4</td>\n",
       "      <td>60</td>\n",
       "      <td>900</td>\n",
       "      <td>540000</td>\n",
       "      <td>162000</td>\n",
       "      <td>0.3</td>\n",
       "      <td>0</td>\n",
       "    </tr>\n",
       "  </tbody>\n",
       "</table>\n",
       "</div>"
      ],
      "text/plain": [
       "3  Retailer  Region  State  City  Product Price per Unit Units Sold  \\\n",
       "0         0       0      0     0        0             50       1200   \n",
       "1         0       0      0     0        1             50       1000   \n",
       "2         0       0      0     0        2             40       1000   \n",
       "3         0       0      0     0        3             45        850   \n",
       "4         0       0      0     0        4             60        900   \n",
       "\n",
       "3 Total Sales Operating Profit Operating Margin  Method  \n",
       "0      600000           300000              0.5       0  \n",
       "1      500000           150000              0.3       0  \n",
       "2      400000           140000             0.35       0  \n",
       "3      382500           133875             0.35       0  \n",
       "4      540000           162000              0.3       0  "
      ]
     },
     "execution_count": 27,
     "metadata": {},
     "output_type": "execute_result"
    }
   ],
   "source": [
    "df2.head()"
   ]
  },
  {
   "cell_type": "code",
   "execution_count": 28,
   "id": "f642a8ef-70b6-4503-b85d-f606e7ce6b59",
   "metadata": {},
   "outputs": [],
   "source": [
    "df2['Units Sold'] = df2['Units Sold'].astype(int)\n",
    "df2['Total Sales'] = df2['Total Sales'].astype(int)\n",
    "df2['Operating Profit'] = df2['Operating Profit'].astype(int)\n",
    "df2['Retailer'] = df2['Retailer'].astype(int)"
   ]
  },
  {
   "cell_type": "code",
   "execution_count": 29,
   "id": "15987595-e557-43d8-b131-8d0f5ae8e29f",
   "metadata": {},
   "outputs": [
    {
     "name": "stdout",
     "output_type": "stream",
     "text": [
      "<class 'pandas.core.frame.DataFrame'>\n",
      "RangeIndex: 9648 entries, 0 to 9647\n",
      "Data columns (total 11 columns):\n",
      " #   Column            Non-Null Count  Dtype \n",
      "---  ------            --------------  ----- \n",
      " 0   Retailer          9648 non-null   int32 \n",
      " 1   Region            9648 non-null   int64 \n",
      " 2   State             9648 non-null   int64 \n",
      " 3   City              9648 non-null   int64 \n",
      " 4   Product           9648 non-null   int64 \n",
      " 5   Price per Unit    9648 non-null   object\n",
      " 6   Units Sold        9648 non-null   int32 \n",
      " 7   Total Sales       9648 non-null   int32 \n",
      " 8   Operating Profit  9648 non-null   int32 \n",
      " 9   Operating Margin  9648 non-null   object\n",
      " 10  Method            9648 non-null   int64 \n",
      "dtypes: int32(4), int64(5), object(2)\n",
      "memory usage: 678.5+ KB\n"
     ]
    }
   ],
   "source": [
    "df2.info()"
   ]
  },
  {
   "cell_type": "markdown",
   "id": "069c642d-7d15-45c5-9098-894450b9162f",
   "metadata": {},
   "source": [
    "### Finding correlation between Features:"
   ]
  },
  {
   "cell_type": "code",
   "execution_count": 30,
   "id": "93b45366-058a-4260-8010-81d0e3ee1673",
   "metadata": {},
   "outputs": [],
   "source": [
    "corr=df2.corr()"
   ]
  },
  {
   "cell_type": "code",
   "execution_count": 31,
   "id": "9dd5d860-a145-4a1d-839d-69ab4a6c06b4",
   "metadata": {},
   "outputs": [
    {
     "name": "stdout",
     "output_type": "stream",
     "text": [
      "3                 Retailer    Region     State      City   Product  \\\n",
      "3                                                                    \n",
      "Retailer          1.000000 -0.097952  0.096816  0.096194  0.002262   \n",
      "Region           -0.097952  1.000000 -0.209003 -0.176060 -0.000121   \n",
      "State             0.096816 -0.209003  1.000000  0.976045  0.000367   \n",
      "City              0.096194 -0.176060  0.976045  1.000000  0.000393   \n",
      "Product           0.002262 -0.000121  0.000367  0.000393  1.000000   \n",
      "Units Sold        0.007130  0.095324 -0.251792 -0.244089 -0.177418   \n",
      "Total Sales       0.016339  0.079305 -0.158281 -0.151011 -0.055138   \n",
      "Operating Profit  0.012788  0.072539 -0.145209 -0.137264 -0.054475   \n",
      "Method           -0.005612  0.130336 -0.013363 -0.011398 -0.000524   \n",
      "\n",
      "3                 Units Sold  Total Sales  Operating Profit    Method  \n",
      "3                                                                      \n",
      "Retailer            0.007130     0.016339          0.012788 -0.005612  \n",
      "Region              0.095324     0.079305          0.072539  0.130336  \n",
      "State              -0.251792    -0.158281         -0.145209 -0.013363  \n",
      "City               -0.244089    -0.151011         -0.137264 -0.011398  \n",
      "Product            -0.177418    -0.055138         -0.054475 -0.000524  \n",
      "Units Sold          1.000000     0.913431          0.892380 -0.355552  \n",
      "Total Sales         0.913431     1.000000          0.956308 -0.386012  \n",
      "Operating Profit    0.892380     0.956308          1.000000 -0.350035  \n",
      "Method             -0.355552    -0.386012         -0.350035  1.000000  \n"
     ]
    }
   ],
   "source": [
    "print(corr)"
   ]
  },
  {
   "cell_type": "code",
   "execution_count": 32,
   "id": "32173854-8967-4345-8705-51cd98f416bc",
   "metadata": {},
   "outputs": [
    {
     "data": {
      "image/png": "[encoded data removed]",
      "text/plain": [
       "<Figure size 640x480 with 2 Axes>"
      ]
     },
     "metadata": {},
     "output_type": "display_data"
    }
   ],
   "source": [
    "sns.heatmap(corr);"
   ]
  },
  {
   "cell_type": "markdown",
   "id": "695baecd-133a-49ef-8721-1f51cebe8fb9",
   "metadata": {},
   "source": [
    "### We can see that Total Sales has obviously, a high colleration with operating profit, price per unit and units sold.\n",
    "### But on the other hand, features like Region and retailer can make an impact on the Total sales amount."
   ]
  },
  {
   "cell_type": "markdown",
   "id": "621defce-bac8-471e-a1ce-9cc0d6a5ab42",
   "metadata": {},
   "source": [
    "## Total Sales prediction using multiple linear regression model:"
   ]
  },
  {
   "cell_type": "code",
   "execution_count": 33,
   "id": "5790940a-9f08-4021-9ebd-cba73b769438",
   "metadata": {},
   "outputs": [],
   "source": [
    "X = df2.values[:,(0,1,2,3,4,5,6,8,9,10)]\n",
    "Y = df2.values[:, 7]"
   ]
  },
  {
   "cell_type": "code",
   "execution_count": 34,
   "id": "8848f24d-c402-4424-9157-5a7d67d32d0b",
   "metadata": {},
   "outputs": [
    {
     "data": {
      "text/plain": [
       "array([600000, 500000, 400000, ..., 7544, 2940, 2407], dtype=object)"
      ]
     },
     "execution_count": 34,
     "metadata": {},
     "output_type": "execute_result"
    }
   ],
   "source": [
    "Y"
   ]
  },
  {
   "cell_type": "code",
   "execution_count": 35,
   "id": "949d9ded-8c47-4599-b3e1-8683891d179a",
   "metadata": {},
   "outputs": [
    {
     "data": {
      "text/plain": [
       "(9648, 10)"
      ]
     },
     "execution_count": 35,
     "metadata": {},
     "output_type": "execute_result"
    }
   ],
   "source": [
    "X.shape"
   ]
  },
  {
   "cell_type": "code",
   "execution_count": 36,
   "id": "0d104fce-b6fa-4830-a606-a27a590af04f",
   "metadata": {},
   "outputs": [
    {
     "data": {
      "text/html": [
       "<div>\n",
       "<style scoped>\n",
       "    .dataframe tbody tr th:only-of-type {\n",
       "        vertical-align: middle;\n",
       "    }\n",
       "\n",
       "    .dataframe tbody tr th {\n",
       "        vertical-align: top;\n",
       "    }\n",
       "\n",
       "    .dataframe thead th {\n",
       "        text-align: right;\n",
       "    }\n",
       "</style>\n",
       "<table border=\"1\" class=\"dataframe\">\n",
       "  <thead>\n",
       "    <tr style=\"text-align: right;\">\n",
       "      <th>3</th>\n",
       "      <th>Retailer</th>\n",
       "      <th>Region</th>\n",
       "      <th>State</th>\n",
       "      <th>City</th>\n",
       "      <th>Product</th>\n",
       "      <th>Price per Unit</th>\n",
       "      <th>Units Sold</th>\n",
       "      <th>Total Sales</th>\n",
       "      <th>Operating Profit</th>\n",
       "      <th>Operating Margin</th>\n",
       "      <th>Method</th>\n",
       "    </tr>\n",
       "  </thead>\n",
       "  <tbody>\n",
       "    <tr>\n",
       "      <th>0</th>\n",
       "      <td>0</td>\n",
       "      <td>0</td>\n",
       "      <td>0</td>\n",
       "      <td>0</td>\n",
       "      <td>0</td>\n",
       "      <td>50</td>\n",
       "      <td>1200</td>\n",
       "      <td>600000</td>\n",
       "      <td>300000</td>\n",
       "      <td>0.5</td>\n",
       "      <td>0</td>\n",
       "    </tr>\n",
       "    <tr>\n",
       "      <th>1</th>\n",
       "      <td>0</td>\n",
       "      <td>0</td>\n",
       "      <td>0</td>\n",
       "      <td>0</td>\n",
       "      <td>1</td>\n",
       "      <td>50</td>\n",
       "      <td>1000</td>\n",
       "      <td>500000</td>\n",
       "      <td>150000</td>\n",
       "      <td>0.3</td>\n",
       "      <td>0</td>\n",
       "    </tr>\n",
       "    <tr>\n",
       "      <th>2</th>\n",
       "      <td>0</td>\n",
       "      <td>0</td>\n",
       "      <td>0</td>\n",
       "      <td>0</td>\n",
       "      <td>2</td>\n",
       "      <td>40</td>\n",
       "      <td>1000</td>\n",
       "      <td>400000</td>\n",
       "      <td>140000</td>\n",
       "      <td>0.35</td>\n",
       "      <td>0</td>\n",
       "    </tr>\n",
       "    <tr>\n",
       "      <th>3</th>\n",
       "      <td>0</td>\n",
       "      <td>0</td>\n",
       "      <td>0</td>\n",
       "      <td>0</td>\n",
       "      <td>3</td>\n",
       "      <td>45</td>\n",
       "      <td>850</td>\n",
       "      <td>382500</td>\n",
       "      <td>133875</td>\n",
       "      <td>0.35</td>\n",
       "      <td>0</td>\n",
       "    </tr>\n",
       "    <tr>\n",
       "      <th>4</th>\n",
       "      <td>0</td>\n",
       "      <td>0</td>\n",
       "      <td>0</td>\n",
       "      <td>0</td>\n",
       "      <td>4</td>\n",
       "      <td>60</td>\n",
       "      <td>900</td>\n",
       "      <td>540000</td>\n",
       "      <td>162000</td>\n",
       "      <td>0.3</td>\n",
       "      <td>0</td>\n",
       "    </tr>\n",
       "  </tbody>\n",
       "</table>\n",
       "</div>"
      ],
      "text/plain": [
       "3  Retailer  Region  State  City  Product Price per Unit  Units Sold  \\\n",
       "0         0       0      0     0        0             50        1200   \n",
       "1         0       0      0     0        1             50        1000   \n",
       "2         0       0      0     0        2             40        1000   \n",
       "3         0       0      0     0        3             45         850   \n",
       "4         0       0      0     0        4             60         900   \n",
       "\n",
       "3  Total Sales  Operating Profit Operating Margin  Method  \n",
       "0       600000            300000              0.5       0  \n",
       "1       500000            150000              0.3       0  \n",
       "2       400000            140000             0.35       0  \n",
       "3       382500            133875             0.35       0  \n",
       "4       540000            162000              0.3       0  "
      ]
     },
     "execution_count": 36,
     "metadata": {},
     "output_type": "execute_result"
    }
   ],
   "source": [
    "df2.head()"
   ]
  },
  {
   "cell_type": "code",
   "execution_count": 37,
   "id": "3cee8ef5-7c29-4de5-a3af-e357e77882eb",
   "metadata": {},
   "outputs": [],
   "source": [
    "X_train, X_test, y_train, y_test = train_test_split(X, Y, test_size = 0.25, random_state = 0)"
   ]
  },
  {
   "cell_type": "code",
   "execution_count": 38,
   "id": "d4e590ff-8656-4227-8861-f2696ba0efe0",
   "metadata": {},
   "outputs": [],
   "source": [
    "lr= LinearRegression()"
   ]
  },
  {
   "cell_type": "markdown",
   "id": "909174e0-42f3-479d-b7ef-70a36cbf33f2",
   "metadata": {},
   "source": [
    "### Training the model"
   ]
  },
  {
   "cell_type": "code",
   "execution_count": 39,
   "id": "e20eddb2-80d4-46cd-9882-37d5c0f6cf53",
   "metadata": {},
   "outputs": [
    {
     "data": {
      "text/plain": [
       "LinearRegression()"
      ]
     },
     "execution_count": 39,
     "metadata": {},
     "output_type": "execute_result"
    }
   ],
   "source": [
    "lr.fit(X_train,y_train)"
   ]
  },
  {
   "cell_type": "code",
   "execution_count": 40,
   "id": "dfac25f7-4160-4932-bdc8-750392fd6b4f",
   "metadata": {},
   "outputs": [],
   "source": [
    "y_pred = lr.predict(X_test)"
   ]
  },
  {
   "cell_type": "markdown",
   "id": "7d33ed85-9df1-4778-9c26-d7594dc324cb",
   "metadata": {},
   "source": [
    "### Calculating R squared value:"
   ]
  },
  {
   "cell_type": "code",
   "execution_count": 41,
   "id": "42f6232b-a9b5-407e-81b0-1091843e53e7",
   "metadata": {},
   "outputs": [],
   "source": [
    "r2 = r2_score(y_test, y_pred)"
   ]
  },
  {
   "cell_type": "code",
   "execution_count": 42,
   "id": "0c9caaec-d292-4268-86fe-9eed3e0cd4e1",
   "metadata": {},
   "outputs": [
    {
     "data": {
      "text/plain": [
       "0.9587616577225725"
      ]
     },
     "execution_count": 42,
     "metadata": {},
     "output_type": "execute_result"
    }
   ],
   "source": [
    "r2"
   ]
  },
  {
   "cell_type": "markdown",
   "id": "3ed42613-7993-443d-8147-d1a39b2e78b7",
   "metadata": {},
   "source": [
    "### Predicting Sales amount"
   ]
  },
  {
   "cell_type": "code",
   "execution_count": 56,
   "id": "a090e2ca-1f88-4b8d-859f-d78e4484ba54",
   "metadata": {},
   "outputs": [],
   "source": [
    "df2['sales_pred']= lr.predict(X)"
   ]
  },
  {
   "cell_type": "code",
   "execution_count": 68,
   "id": "199db807-ff8e-47b6-afff-4d09f0a3b5a0",
   "metadata": {},
   "outputs": [],
   "source": [
    "df2['sales_pred'] = df2['sales_pred'].round()"
   ]
  },
  {
   "cell_type": "code",
   "execution_count": 69,
   "id": "73d7b6ae-5471-42f2-8d1b-8d7126130661",
   "metadata": {},
   "outputs": [
    {
     "data": {
      "text/html": [
       "<div>\n",
       "<style scoped>\n",
       "    .dataframe tbody tr th:only-of-type {\n",
       "        vertical-align: middle;\n",
       "    }\n",
       "\n",
       "    .dataframe tbody tr th {\n",
       "        vertical-align: top;\n",
       "    }\n",
       "\n",
       "    .dataframe thead th {\n",
       "        text-align: right;\n",
       "    }\n",
       "</style>\n",
       "<table border=\"1\" class=\"dataframe\">\n",
       "  <thead>\n",
       "    <tr style=\"text-align: right;\">\n",
       "      <th>3</th>\n",
       "      <th>Retailer</th>\n",
       "      <th>Region</th>\n",
       "      <th>State</th>\n",
       "      <th>City</th>\n",
       "      <th>Product</th>\n",
       "      <th>Price per Unit</th>\n",
       "      <th>Units Sold</th>\n",
       "      <th>Total Sales</th>\n",
       "      <th>Operating Profit</th>\n",
       "      <th>Operating Margin</th>\n",
       "      <th>Method</th>\n",
       "      <th>sales_pred</th>\n",
       "    </tr>\n",
       "  </thead>\n",
       "  <tbody>\n",
       "    <tr>\n",
       "      <th>0</th>\n",
       "      <td>0</td>\n",
       "      <td>0</td>\n",
       "      <td>0</td>\n",
       "      <td>0</td>\n",
       "      <td>0</td>\n",
       "      <td>50</td>\n",
       "      <td>1200</td>\n",
       "      <td>600000</td>\n",
       "      <td>300000</td>\n",
       "      <td>0.5</td>\n",
       "      <td>0</td>\n",
       "      <td>702909.0</td>\n",
       "    </tr>\n",
       "    <tr>\n",
       "      <th>1</th>\n",
       "      <td>0</td>\n",
       "      <td>0</td>\n",
       "      <td>0</td>\n",
       "      <td>0</td>\n",
       "      <td>1</td>\n",
       "      <td>50</td>\n",
       "      <td>1000</td>\n",
       "      <td>500000</td>\n",
       "      <td>150000</td>\n",
       "      <td>0.3</td>\n",
       "      <td>0</td>\n",
       "      <td>450186.0</td>\n",
       "    </tr>\n",
       "    <tr>\n",
       "      <th>2</th>\n",
       "      <td>0</td>\n",
       "      <td>0</td>\n",
       "      <td>0</td>\n",
       "      <td>0</td>\n",
       "      <td>2</td>\n",
       "      <td>40</td>\n",
       "      <td>1000</td>\n",
       "      <td>400000</td>\n",
       "      <td>140000</td>\n",
       "      <td>0.35</td>\n",
       "      <td>0</td>\n",
       "      <td>416060.0</td>\n",
       "    </tr>\n",
       "    <tr>\n",
       "      <th>3</th>\n",
       "      <td>0</td>\n",
       "      <td>0</td>\n",
       "      <td>0</td>\n",
       "      <td>0</td>\n",
       "      <td>3</td>\n",
       "      <td>45</td>\n",
       "      <td>850</td>\n",
       "      <td>382500</td>\n",
       "      <td>133875</td>\n",
       "      <td>0.35</td>\n",
       "      <td>0</td>\n",
       "      <td>383273.0</td>\n",
       "    </tr>\n",
       "    <tr>\n",
       "      <th>4</th>\n",
       "      <td>0</td>\n",
       "      <td>0</td>\n",
       "      <td>0</td>\n",
       "      <td>0</td>\n",
       "      <td>4</td>\n",
       "      <td>60</td>\n",
       "      <td>900</td>\n",
       "      <td>540000</td>\n",
       "      <td>162000</td>\n",
       "      <td>0.3</td>\n",
       "      <td>0</td>\n",
       "      <td>463924.0</td>\n",
       "    </tr>\n",
       "  </tbody>\n",
       "</table>\n",
       "</div>"
      ],
      "text/plain": [
       "3  Retailer  Region  State  City  Product Price per Unit  Units Sold  \\\n",
       "0         0       0      0     0        0             50        1200   \n",
       "1         0       0      0     0        1             50        1000   \n",
       "2         0       0      0     0        2             40        1000   \n",
       "3         0       0      0     0        3             45         850   \n",
       "4         0       0      0     0        4             60         900   \n",
       "\n",
       "3  Total Sales  Operating Profit Operating Margin  Method  sales_pred  \n",
       "0       600000            300000              0.5       0    702909.0  \n",
       "1       500000            150000              0.3       0    450186.0  \n",
       "2       400000            140000             0.35       0    416060.0  \n",
       "3       382500            133875             0.35       0    383273.0  \n",
       "4       540000            162000              0.3       0    463924.0  "
      ]
     },
     "execution_count": 69,
     "metadata": {},
     "output_type": "execute_result"
    }
   ],
   "source": [
    "df2.head()"
   ]
  },
  {
   "cell_type": "code",
   "execution_count": 94,
   "id": "77d11e01-4fc9-4f03-9835-4f8b9c9eaa52",
   "metadata": {},
   "outputs": [
    {
     "data": {
      "image/png": "[encoded data removed]",
      "text/plain": [
       "<Figure size 640x480 with 1 Axes>"
      ]
     },
     "metadata": {},
     "output_type": "display_data"
    }
   ],
   "source": [
    "plt.scatter(df2['sales_pred'],df2['Total Sales'],color = 'r')\n",
    "plt.xlabel(\"sales_pred\")\n",
    "plt.ylabel(\"Total Sales\")\n",
    "plt.title('Model Correlation Scatterplot');"
   ]
  },
  {
   "cell_type": "code",
   "execution_count": null,
   "id": "c4230e08-14d7-4b5d-8f20-351bf167ad31",
   "metadata": {},
   "outputs": [],
   "source": []
  }
 ],
 "metadata": {
  "kernelspec": {
   "display_name": "Python 3 (ipykernel)",
   "language": "python",
   "name": "python3"
  },
  "language_info": {
   "codemirror_mode": {
    "name": "ipython",
    "version": 3
   },
   "file_extension": ".py",
   "mimetype": "text/x-python",
   "name": "python",
   "nbconvert_exporter": "python",
   "pygments_lexer": "ipython3",
   "version": "3.7.13"
  }
 },
 "nbformat": 4,
 "nbformat_minor": 5
}
